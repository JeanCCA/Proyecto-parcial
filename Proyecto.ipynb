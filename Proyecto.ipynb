{
  "nbformat": 4,
  "nbformat_minor": 0,
  "metadata": {
    "colab": {
      "name": "Proyecto.ipynb",
      "provenance": [],
      "collapsed_sections": [],
      "include_colab_link": true
    },
    "kernelspec": {
      "name": "python3",
      "display_name": "Python 3"
    }
  },
  "cells": [
    {
      "cell_type": "markdown",
      "metadata": {
        "id": "view-in-github",
        "colab_type": "text"
      },
      "source": [
        "<a href=\"https://colab.research.google.com/github/JeanCCA/Proyecto-parcial/blob/main/Proyecto.ipynb\" target=\"_parent\"><img src=\"https://colab.research.google.com/assets/colab-badge.svg\" alt=\"Open In Colab\"/></a>"
      ]
    },
    {
      "cell_type": "code",
      "metadata": {
        "id": "dQ34RjasQeBR",
        "colab": {
          "base_uri": "https://localhost:8080/"
        },
        "outputId": "532d89e4-d381-495d-e4fe-864697669f76"
      },
      "source": [
        "%pip install BeautifulSoup4\n",
        "%pip install requests\n",
        "%pip install pandas\n",
        "%pip install WordCloud\n",
        "%pip install Colorama\n"
      ],
      "execution_count": 1,
      "outputs": [
        {
          "output_type": "stream",
          "text": [
            "Requirement already satisfied: BeautifulSoup4 in /usr/local/lib/python3.6/dist-packages (4.6.3)\n",
            "Requirement already satisfied: requests in /usr/local/lib/python3.6/dist-packages (2.23.0)\n",
            "Requirement already satisfied: certifi>=2017.4.17 in /usr/local/lib/python3.6/dist-packages (from requests) (2020.12.5)\n",
            "Requirement already satisfied: urllib3!=1.25.0,!=1.25.1,<1.26,>=1.21.1 in /usr/local/lib/python3.6/dist-packages (from requests) (1.24.3)\n",
            "Requirement already satisfied: chardet<4,>=3.0.2 in /usr/local/lib/python3.6/dist-packages (from requests) (3.0.4)\n",
            "Requirement already satisfied: idna<3,>=2.5 in /usr/local/lib/python3.6/dist-packages (from requests) (2.10)\n",
            "Requirement already satisfied: pandas in /usr/local/lib/python3.6/dist-packages (1.1.5)\n",
            "Requirement already satisfied: numpy>=1.15.4 in /usr/local/lib/python3.6/dist-packages (from pandas) (1.19.5)\n",
            "Requirement already satisfied: pytz>=2017.2 in /usr/local/lib/python3.6/dist-packages (from pandas) (2018.9)\n",
            "Requirement already satisfied: python-dateutil>=2.7.3 in /usr/local/lib/python3.6/dist-packages (from pandas) (2.8.1)\n",
            "Requirement already satisfied: six>=1.5 in /usr/local/lib/python3.6/dist-packages (from python-dateutil>=2.7.3->pandas) (1.15.0)\n",
            "Requirement already satisfied: WordCloud in /usr/local/lib/python3.6/dist-packages (1.5.0)\n",
            "Requirement already satisfied: numpy>=1.6.1 in /usr/local/lib/python3.6/dist-packages (from WordCloud) (1.19.5)\n",
            "Requirement already satisfied: pillow in /usr/local/lib/python3.6/dist-packages (from WordCloud) (7.0.0)\n",
            "Collecting Colorama\n",
            "  Downloading https://files.pythonhosted.org/packages/44/98/5b86278fbbf250d239ae0ecb724f8572af1c91f4a11edf4d36a206189440/colorama-0.4.4-py2.py3-none-any.whl\n",
            "Installing collected packages: Colorama\n",
            "Successfully installed Colorama-0.4.4\n"
          ],
          "name": "stdout"
        }
      ]
    },
    {
      "cell_type": "code",
      "metadata": {
        "id": "4UAHVs7P-lRZ"
      },
      "source": [
        "from wordcloud import WordCloud, STOPWORDS\r\n",
        "import matplotlib.pyplot as plt\r\n",
        "import numpy as np\r\n",
        "import os\r\n",
        "from colorama import init, Fore\r\n",
        "from google.colab import output\r\n",
        "from bs4 import BeautifulSoup\r\n",
        "from PIL import Image\r\n",
        "import string\r\n",
        "import requests\r\n",
        "import pandas as pd"
      ],
      "execution_count": 2,
      "outputs": []
    },
    {
      "cell_type": "code",
      "metadata": {
        "id": "WyKFaVqDAXx2"
      },
      "source": [
        "def ciclo(n, p):\r\n",
        "    y = 0\r\n",
        "    while y < n:\r\n",
        "        y = y + 1\r\n",
        "        tex.write(\"\\t\"+p)\r\n",
        "\r\n",
        "def scraping(v,tagdict):\r\n",
        "    url = 'https://es.stackoverflow.com/users/'+v+'/?tab=tags'\r\n",
        "    page = requests.get(url)\r\n",
        "    soup = BeautifulSoup(page.content, 'html.parser')\r\n",
        "    while page.status_code!=200:\r\n",
        "        print(\"El usuario buscado no existe.\")\r\n",
        "        print(\"--------------------------------------------------------------------------------------------------\")\r\n",
        "        x=input(\"Ingrese el id de usuario a extraer informacion: \")\r\n",
        "        url = 'https://es.stackoverflow.com/users/' + x + '/?tab=tags'\r\n",
        "        page = requests.get(url)\r\n",
        "        soup = BeautifulSoup(page.content, 'html.parser')\r\n",
        "\r\n",
        "    Tags = soup.find_all('a', class_='post-tag')\r\n",
        "    Points = soup.find_all('div', class_='answer-votes')\r\n",
        "    etiquetas = list()\r\n",
        "\r\n",
        "    for i in Tags:\r\n",
        "        etiquetas.append(i.text)\r\n",
        "\r\n",
        "    puntos = list()\r\n",
        "\r\n",
        "    for i in Points:\r\n",
        "        puntos.append(i.text.replace('k','000'))\r\n",
        "\r\n",
        "    for i in range(len(etiquetas)-1):\r\n",
        "      if int(puntos[i])>0:\r\n",
        "        tagdict[etiquetas[i]] = int(puntos[i])\r\n",
        "\r\n",
        "def wordcloud(tagdict):\r\n",
        "    x = 0\r\n",
        "    for x in tagdict:\r\n",
        "      if tagdict[x]>0:\r\n",
        "        n=tagdict[x]\r\n",
        "        p = x\r\n",
        "        ciclo(n, p)\r\n",
        "    tex.close()\r\n",
        "    with open(\"note.txt\", encoding='utf-8')as file: \r\n",
        "      text = file.read()\r\n",
        "      normal_word = r\"(?:\\w[\\w']+)\"\r\n",
        "      ascii_art = r\"(?:\\w[{punctuation}][{punctuation}]+)\".format(punctuation=string.punctuation)\r\n",
        "      c= r\"(?:\\w[{punctuation}]+)\".format(punctuation=string.punctuation)\r\n",
        "      emoji = r\"(?<![\\w{ascii_printable}])\".format(ascii_printable=string.printable)\r\n",
        "      regexp = r\"{normal_word}|{ascii_art}|{emoji}|{c}\".format( normal_word = normal_word,ascii_art=ascii_art,emoji=emoji,c=c)\r\n",
        "      cloud = WordCloud(background_color=\"white\", collocations=False,regexp=regexp).generate(text)\r\n",
        "      plt.imshow(cloud)\r\n",
        "      plt.axis('off') \r\n",
        "      plt.show()\r\n",
        "\r\n",
        "def inicio():\r\n",
        "    print(\"Bienvenido :D \\nStack Overflow en Español (es.stackoverflow.com/users/)\")\r\n",
        "    print(\"--------------------------------------------------------------------------------------------------\")\r\n",
        "    v = input(\"Debe ingresar el ID de usuario: \")\r\n",
        "    tagdict = {}\r\n",
        "    scraping(v,tagdict)\r\n",
        "    print(\"--------------------------------------------------------------------------------------------------\")\r\n",
        "    if tagdict: \r\n",
        "        print(\"Se ha generado el siguiente Word Cloud: \")\r\n",
        "        wordcloud(tagdict)\r\n",
        "    else:\r\n",
        "     print(\"No se pudo generar el Word Cloud :( \")\r\n",
        "\r\n",
        "while True:\r\n",
        "    output.clear()\r\n",
        "    tex = open(\"note.txt\", \"w\")\r\n",
        "    inicio()\r\n",
        "    print(\"--------------------------------------------------------------------------------------------------\")\r\n",
        "    x=str(input(\"Escriba 'salir, Salir, SALIR' para salir de la app \\no cualquier carácter para continuar: \"))\r\n",
        "    if x==\"salir\" or x==\"Salir\" or x==\"SALIR\":\r\n",
        "        output.clear()\r\n",
        "        break"
      ],
      "execution_count": 3,
      "outputs": []
    }
  ]
}