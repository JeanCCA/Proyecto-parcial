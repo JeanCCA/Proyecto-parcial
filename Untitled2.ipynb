{
  "nbformat": 4,
  "nbformat_minor": 0,
  "metadata": {
    "colab": {
      "name": "Untitled2.ipynb",
      "provenance": [],
      "authorship_tag": "ABX9TyOd3DKkftmt7VR0QoaVhYO6",
      "include_colab_link": true
    },
    "kernelspec": {
      "name": "python3",
      "display_name": "Python 3"
    }
  },
  "cells": [
    {
      "cell_type": "markdown",
      "metadata": {
        "id": "view-in-github",
        "colab_type": "text"
      },
      "source": [
        "<a href=\"https://colab.research.google.com/github/JeanCCA/Proyecto-parcial/blob/main/Untitled2.ipynb\" target=\"_parent\"><img src=\"https://colab.research.google.com/assets/colab-badge.svg\" alt=\"Open In Colab\"/></a>"
      ]
    },
    {
      "cell_type": "code",
      "metadata": {
        "id": "6zwIpDxOglSd"
      },
      "source": [
        "from wordcloud import WordCloud, STOPWORDS, ImageColorGenerator\r\n",
        "from bs4 import BeautifulSoup as bs\r\n",
        "import matplotlib.pyplot as plt\r\n",
        "import requests\r\n",
        "import pandas as pd\r\n",
        "%matplotlib inline\r\n",
        "\r\n",
        "id = input(\"Ingrese la ID del usuario: \")\r\n",
        "\r\n",
        "page = requests.get(\"https://es.stackoverflow.com/users/\"+id)\r\n",
        "soup = bs(page.content,'html.parser')\r\n",
        "\r\n",
        "try:\r\n",
        "  NUs = soup.find('div',class_=\"grid--cell fw-bold\").text\r\n",
        "  url = \"https://es.stackoverflow.com/users/\"+id+\"/\"+NUs+\"?tab=tags\" + \"&sort=votes&page=\"\r\n",
        "\r\n",
        "  tags = list()\r\n",
        "  freq = list()\r\n",
        "\r\n",
        "  listcomp = list()\r\n",
        "  \r\n",
        "  for page in range(1,15):\r\n",
        "\r\n",
        "      r = requests.get(url + str(page))\r\n",
        "      \r\n",
        "      soup = bs(r.content, \"html.parser\")\r\n",
        "      td = soup.find_all(\"td\")\r\n",
        "\r\n",
        "      for i in td:  \r\n",
        "        tags.append(i.find('a', class_='post-tag').text)\r\n",
        " \r\n",
        "      for i in td:\r\n",
        "        freq.append(i.find('div', class_='answer-votes').text)\r\n",
        "\r\n",
        "      for i in range(len(tags)):\r\n",
        "        if (int(freq[i])> 0):\r\n",
        "          if freq[i] == \"3k\" or \"2k\" or \"1k\":\r\n",
        "              freq[i]=2000\r\n",
        "          else: \r\n",
        "            freq[i]= freq\r\n",
        "\r\n",
        "          for k in range(int(freq[i])):\r\n",
        "                listcomp.append(tags[i]) \r\n",
        "\r\n",
        "  try:\r\n",
        "    def plot_cloud(wordcloud):\r\n",
        "      plt.figure(figsize=(6, 3))\r\n",
        "      plt.imshow(wordcloud) \r\n",
        "      plt.axis(\"off\");\r\n",
        "      \r\n",
        "    wordcloud = WordCloud(width = 3000, height = 2000, random_state=1, background_color='White', colormap='jet', \r\n",
        "                        collocations=False, stopwords = STOPWORDS, regexp= r\"\\S[\\S']+\" ).generate(' '.join(listcomp))\r\n",
        "\r\n",
        "    plot_cloud(wordcloud)\r\n",
        "  except ValueError:\r\n",
        "      print(\"No se puede generar nube de palabras.\")\r\n",
        "except AttributeError:\r\n",
        "    print(\"ID NO ENCONTRADO.\")"
      ],
      "execution_count": null,
      "outputs": []
    }
  ]
}